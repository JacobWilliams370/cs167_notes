{
  "cells": [
    {
      "cell_type": "markdown",
      "metadata": {
        "id": "view-in-github",
        "colab_type": "text"
      },
      "source": [
        "<a href=\"https://colab.research.google.com/github/JacobWilliams370/cs167_notes/blob/main/Day04_P2_Metrics_Testing.ipynb\" target=\"_parent\"><img src=\"https://colab.research.google.com/assets/colab-badge.svg\" alt=\"Open In Colab\"/></a>"
      ]
    },
    {
      "cell_type": "markdown",
      "metadata": {
        "id": "2HNJb0arhlGn"
      },
      "source": [
        "# CS167: Day04 \n",
        "## Part 2: Graphs, Metrics, and Testing\n",
        "\n",
        "#### CS167: Machine Learning, J-Term 2023\n",
        "\n",
        "Friday, January 6th, 2023 -- Session II (10:20 - 11:35)\n",
        "\n",
        "[⏮ Day03 Part 2](https://github.com/merriekay/j23_cs167_notes/blob/main/Day03_P2_Missing_Data_Normalization.ipynb) | [Day03 Part 2⏩]()"
      ]
    },
    {
      "cell_type": "markdown",
      "metadata": {
        "id": "7mC0NWe_hlGo"
      },
      "source": [
        "## Helpful Links:\n",
        "📆 [Course Schedule](https://docs.google.com/spreadsheets/d/e/2PACX-1vStj3FCEJqloUMLn2VtHa4yy1ILY6WvABhu4jd4cVUpPGkrx1mEjfTFmd77DMESR9HJ-8UBxgMDJL06/pubhtml?gid=0&single=true) | 🙋[PollEverywhere](https://pollev.com/meredithmoore011) | 📜 [Syllabus](https://analytics.drake.edu/~moore/j23_cs167/Syllabus.html)\n"
      ]
    },
    {
      "cell_type": "markdown",
      "metadata": {
        "id": "5ueqhHEdhlGp"
      },
      "source": [
        "# Overview of Today:\n",
        "\n",
        "__Part 1__: Notebook #2 Questions, weighted kNN\n",
        "\n",
        "__Part 2__: Graphs, Metrics, and Testing"
      ]
    },
    {
      "cell_type": "markdown",
      "metadata": {
        "id": "kDtW901zhlGp"
      },
      "source": [
        "# Admin Stuff\n",
        "\n",
        "You should be working on:\n",
        "- [Notebook #2: kNN and Normalization](https://classroom.github.com/a/ZihGOnY-) is released today, but will be due on Friday 1/6 by 11:59pm.\n",
        "- Quiz #1 will be released today after class and will be due Monday 1/9/23 by 11:59pm. \n",
        "    - Blackboard\n",
        "    - To be completed individually\n",
        "    - Cite any external resoucres you use, please.\n"
      ]
    },
    {
      "cell_type": "markdown",
      "metadata": {
        "id": "vVBvrJuJhlGp"
      },
      "source": [
        "# 💬 Discussion Question\n",
        "\n",
        "## Should we __always__ normalize our data? Why or why not?\n",
        "\n",
        "normalizing makes data less interpretable, so if you need the data to be interpretable normalizing may not be the best course of action.\n",
        "\n",
        "comparing two different datasets, normalizing may help \n",
        "\n",
        "if your variables have large spread, you will want to normalize, for example, in the vehicles dataset year will always have a larger weight than displ or cylinders\n",
        "\n",
        "When does it make sense to normalize? When might it make more sense not to?"
      ]
    },
    {
      "cell_type": "markdown",
      "metadata": {
        "id": "fGgRvJy-hlGq"
      },
      "source": [
        "# ✨ New Material"
      ]
    },
    {
      "cell_type": "code",
      "execution_count": 1,
      "metadata": {
        "id": "p4tpbJdFhlGq",
        "outputId": "c1c30df6-17d7-4611-b0a6-7f50ed913868",
        "colab": {
          "base_uri": "https://localhost:8080/",
          "height": 308
        }
      },
      "outputs": [
        {
          "output_type": "display_data",
          "data": {
            "text/plain": [
              "<Figure size 432x288 with 1 Axes>"
            ],
            "image/png": "[encoded data removed]"
          },
          "metadata": {
            "needs_background": "light"
          }
        }
      ],
      "source": [
        "import matplotlib.pyplot as plt\n",
        "%matplotlib inline\n",
        "\n",
        "#define our data\n",
        "xvals = [1,2,3,4,5]\n",
        "series1 = [0.66,0.61,0.69,0.73,0.77]\n",
        "series2 = [0.8,0.83,0.77,0.81,0.79]\n",
        "series3 = [0.55,0.67,0.5,0.73,0.66]\n",
        "\n",
        "#add titles to axis and graph\n",
        "plt.suptitle('my rockin plot', fontsize=18)\n",
        "plt.xlabel('a very cool x axis')\n",
        "plt.ylabel('awesome y axis')\n",
        "\n",
        "#plot the data\n",
        "plt.plot(xvals, series1, 'ro-', label='1st series')\n",
        "plt.plot(xvals, series2, 'bs-', label='2nd series')\n",
        "plt.plot(xvals, series3, 'g^-', label='3rd series')\n",
        "plt.axis([0,6,0,1]) #[x_min, x_max, y_min, y_max]\n",
        "plt.show()"
      ]
    },
    {
      "cell_type": "markdown",
      "metadata": {
        "id": "Gnhx4yqkhlGr"
      },
      "source": [
        "## Use markers to differentiate your series:"
      ]
    },
    {
      "cell_type": "code",
      "execution_count": null,
      "metadata": {
        "id": "Crm9yXM4hlGr",
        "outputId": "c8a8ccf9-a2cf-4554-ec15-290982ee50be"
      },
      "outputs": [
        {
          "data": {
            "text/html": [
              "<iframe src=\"https://matplotlib.org/stable/api/_as_gen/matplotlib.pyplot.plot.html\" width=\"1000\" height=\"350\"></iframe>\n"
            ],
            "text/plain": [
              "<IPython.core.display.HTML object>"
            ]
          },
          "metadata": {},
          "output_type": "display_data"
        }
      ],
      "source": [
        "%%html\n",
        "<iframe src=\"https://matplotlib.org/stable/api/_as_gen/matplotlib.pyplot.plot.html\" width=\"1000\" height=\"350\"></iframe>"
      ]
    },
    {
      "cell_type": "markdown",
      "metadata": {
        "id": "5jzfhauxhlGr"
      },
      "source": [
        "# A simple example:"
      ]
    },
    {
      "cell_type": "code",
      "source": [
        "from google.colab import drive \n",
        "drive.mount('/content/drive')"
      ],
      "metadata": {
        "id": "25U1Nrxn9w_X",
        "outputId": "ef5b56a6-1b0c-4086-f29f-d5dd1465bc0d",
        "colab": {
          "base_uri": "https://localhost:8080/"
        }
      },
      "execution_count": 6,
      "outputs": [
        {
          "output_type": "stream",
          "name": "stdout",
          "text": [
            "Mounted at /content/drive\n"
          ]
        }
      ]
    },
    {
      "cell_type": "code",
      "execution_count": 14,
      "metadata": {
        "id": "WocFaduWhlGs",
        "outputId": "a2e19875-1094-44a9-e79d-581730399ca9",
        "colab": {
          "base_uri": "https://localhost:8080/",
          "height": 727
        }
      },
      "outputs": [
        {
          "output_type": "stream",
          "name": "stderr",
          "text": [
            "/usr/local/lib/python3.8/dist-packages/IPython/core/interactiveshell.py:3326: DtypeWarning: Columns (70,71,72,73,74,76,79) have mixed types.Specify dtype option on import or set low_memory=False.\n",
            "  exec(code_obj, self.user_global_ns, self.user_ns)\n"
          ]
        },
        {
          "output_type": "error",
          "ename": "ValueError",
          "evalue": "ignored",
          "traceback": [
            "\u001b[0;31m---------------------------------------------------------------------------\u001b[0m",
            "\u001b[0;31mValueError\u001b[0m                                Traceback (most recent call last)",
            "\u001b[0;32m<ipython-input-14-65d69309d087>\u001b[0m in \u001b[0;36m<module>\u001b[0;34m\u001b[0m\n\u001b[1;32m     26\u001b[0m \u001b[0mplt\u001b[0m\u001b[0;34m.\u001b[0m\u001b[0mylabel\u001b[0m\u001b[0;34m(\u001b[0m\u001b[0;34m'average MPG'\u001b[0m\u001b[0;34m)\u001b[0m\u001b[0;34m\u001b[0m\u001b[0;34m\u001b[0m\u001b[0m\n\u001b[1;32m     27\u001b[0m \u001b[0mplt\u001b[0m\u001b[0;34m.\u001b[0m\u001b[0mplot\u001b[0m\u001b[0;34m(\u001b[0m\u001b[0mxvals\u001b[0m\u001b[0;34m,\u001b[0m \u001b[0mseries\u001b[0m\u001b[0;34m,\u001b[0m \u001b[0;34m'g-^'\u001b[0m\u001b[0;34m,\u001b[0m \u001b[0mlabel\u001b[0m\u001b[0;34m=\u001b[0m\u001b[0;34m'MPG'\u001b[0m\u001b[0;34m)\u001b[0m\u001b[0;34m\u001b[0m\u001b[0;34m\u001b[0m\u001b[0m\n\u001b[0;32m---> 28\u001b[0;31m \u001b[0mplt\u001b[0m\u001b[0;34m.\u001b[0m\u001b[0mplot\u001b[0m\u001b[0;34m(\u001b[0m\u001b[0mxvals\u001b[0m\u001b[0;34m,\u001b[0m \u001b[0mseries2\u001b[0m\u001b[0;34m,\u001b[0m \u001b[0;34m'r-o'\u001b[0m\u001b[0;34m,\u001b[0m \u001b[0mlabel\u001b[0m \u001b[0;34m=\u001b[0m \u001b[0;34m'Median MPG'\u001b[0m\u001b[0;34m)\u001b[0m\u001b[0;34m\u001b[0m\u001b[0;34m\u001b[0m\u001b[0m\n\u001b[0m\u001b[1;32m     29\u001b[0m \u001b[0mplt\u001b[0m\u001b[0;34m.\u001b[0m\u001b[0mlegend\u001b[0m\u001b[0;34m(\u001b[0m\u001b[0mloc\u001b[0m\u001b[0;34m=\u001b[0m\u001b[0;34m'lower right'\u001b[0m\u001b[0;34m,\u001b[0m \u001b[0mshadow\u001b[0m\u001b[0;34m=\u001b[0m\u001b[0;32mTrue\u001b[0m\u001b[0;34m)\u001b[0m\u001b[0;34m\u001b[0m\u001b[0;34m\u001b[0m\u001b[0m\n\u001b[1;32m     30\u001b[0m \u001b[0mplt\u001b[0m\u001b[0;34m.\u001b[0m\u001b[0maxis\u001b[0m\u001b[0;34m(\u001b[0m\u001b[0;34m[\u001b[0m\u001b[0;36m1\u001b[0m\u001b[0;34m,\u001b[0m \u001b[0mnumber_of_points\u001b[0m\u001b[0;34m,\u001b[0m \u001b[0;36m10\u001b[0m\u001b[0;34m,\u001b[0m\u001b[0;36m35\u001b[0m\u001b[0;34m]\u001b[0m\u001b[0;34m)\u001b[0m\u001b[0;34m\u001b[0m\u001b[0;34m\u001b[0m\u001b[0m\n",
            "\u001b[0;32m/usr/local/lib/python3.8/dist-packages/matplotlib/pyplot.py\u001b[0m in \u001b[0;36mplot\u001b[0;34m(scalex, scaley, data, *args, **kwargs)\u001b[0m\n\u001b[1;32m   2759\u001b[0m \u001b[0;34m@\u001b[0m\u001b[0mdocstring\u001b[0m\u001b[0;34m.\u001b[0m\u001b[0mcopy\u001b[0m\u001b[0;34m(\u001b[0m\u001b[0mAxes\u001b[0m\u001b[0;34m.\u001b[0m\u001b[0mplot\u001b[0m\u001b[0;34m)\u001b[0m\u001b[0;34m\u001b[0m\u001b[0;34m\u001b[0m\u001b[0m\n\u001b[1;32m   2760\u001b[0m \u001b[0;32mdef\u001b[0m \u001b[0mplot\u001b[0m\u001b[0;34m(\u001b[0m\u001b[0;34m*\u001b[0m\u001b[0margs\u001b[0m\u001b[0;34m,\u001b[0m \u001b[0mscalex\u001b[0m\u001b[0;34m=\u001b[0m\u001b[0;32mTrue\u001b[0m\u001b[0;34m,\u001b[0m \u001b[0mscaley\u001b[0m\u001b[0;34m=\u001b[0m\u001b[0;32mTrue\u001b[0m\u001b[0;34m,\u001b[0m \u001b[0mdata\u001b[0m\u001b[0;34m=\u001b[0m\u001b[0;32mNone\u001b[0m\u001b[0;34m,\u001b[0m \u001b[0;34m**\u001b[0m\u001b[0mkwargs\u001b[0m\u001b[0;34m)\u001b[0m\u001b[0;34m:\u001b[0m\u001b[0;34m\u001b[0m\u001b[0;34m\u001b[0m\u001b[0m\n\u001b[0;32m-> 2761\u001b[0;31m     return gca().plot(\n\u001b[0m\u001b[1;32m   2762\u001b[0m         *args, scalex=scalex, scaley=scaley, **({\"data\": data} if data\n\u001b[1;32m   2763\u001b[0m         is not None else {}), **kwargs)\n",
            "\u001b[0;32m/usr/local/lib/python3.8/dist-packages/matplotlib/axes/_axes.py\u001b[0m in \u001b[0;36mplot\u001b[0;34m(self, scalex, scaley, data, *args, **kwargs)\u001b[0m\n\u001b[1;32m   1645\u001b[0m         \"\"\"\n\u001b[1;32m   1646\u001b[0m         \u001b[0mkwargs\u001b[0m \u001b[0;34m=\u001b[0m \u001b[0mcbook\u001b[0m\u001b[0;34m.\u001b[0m\u001b[0mnormalize_kwargs\u001b[0m\u001b[0;34m(\u001b[0m\u001b[0mkwargs\u001b[0m\u001b[0;34m,\u001b[0m \u001b[0mmlines\u001b[0m\u001b[0;34m.\u001b[0m\u001b[0mLine2D\u001b[0m\u001b[0;34m)\u001b[0m\u001b[0;34m\u001b[0m\u001b[0;34m\u001b[0m\u001b[0m\n\u001b[0;32m-> 1647\u001b[0;31m         \u001b[0mlines\u001b[0m \u001b[0;34m=\u001b[0m \u001b[0;34m[\u001b[0m\u001b[0;34m*\u001b[0m\u001b[0mself\u001b[0m\u001b[0;34m.\u001b[0m\u001b[0m_get_lines\u001b[0m\u001b[0;34m(\u001b[0m\u001b[0;34m*\u001b[0m\u001b[0margs\u001b[0m\u001b[0;34m,\u001b[0m \u001b[0mdata\u001b[0m\u001b[0;34m=\u001b[0m\u001b[0mdata\u001b[0m\u001b[0;34m,\u001b[0m \u001b[0;34m**\u001b[0m\u001b[0mkwargs\u001b[0m\u001b[0;34m)\u001b[0m\u001b[0;34m]\u001b[0m\u001b[0;34m\u001b[0m\u001b[0;34m\u001b[0m\u001b[0m\n\u001b[0m\u001b[1;32m   1648\u001b[0m         \u001b[0;32mfor\u001b[0m \u001b[0mline\u001b[0m \u001b[0;32min\u001b[0m \u001b[0mlines\u001b[0m\u001b[0;34m:\u001b[0m\u001b[0;34m\u001b[0m\u001b[0;34m\u001b[0m\u001b[0m\n\u001b[1;32m   1649\u001b[0m             \u001b[0mself\u001b[0m\u001b[0;34m.\u001b[0m\u001b[0madd_line\u001b[0m\u001b[0;34m(\u001b[0m\u001b[0mline\u001b[0m\u001b[0;34m)\u001b[0m\u001b[0;34m\u001b[0m\u001b[0;34m\u001b[0m\u001b[0m\n",
            "\u001b[0;32m/usr/local/lib/python3.8/dist-packages/matplotlib/axes/_base.py\u001b[0m in \u001b[0;36m__call__\u001b[0;34m(self, *args, **kwargs)\u001b[0m\n\u001b[1;32m    214\u001b[0m                 \u001b[0mthis\u001b[0m \u001b[0;34m+=\u001b[0m \u001b[0margs\u001b[0m\u001b[0;34m[\u001b[0m\u001b[0;36m0\u001b[0m\u001b[0;34m]\u001b[0m\u001b[0;34m,\u001b[0m\u001b[0;34m\u001b[0m\u001b[0;34m\u001b[0m\u001b[0m\n\u001b[1;32m    215\u001b[0m                 \u001b[0margs\u001b[0m \u001b[0;34m=\u001b[0m \u001b[0margs\u001b[0m\u001b[0;34m[\u001b[0m\u001b[0;36m1\u001b[0m\u001b[0;34m:\u001b[0m\u001b[0;34m]\u001b[0m\u001b[0;34m\u001b[0m\u001b[0;34m\u001b[0m\u001b[0m\n\u001b[0;32m--> 216\u001b[0;31m             \u001b[0;32myield\u001b[0m \u001b[0;32mfrom\u001b[0m \u001b[0mself\u001b[0m\u001b[0;34m.\u001b[0m\u001b[0m_plot_args\u001b[0m\u001b[0;34m(\u001b[0m\u001b[0mthis\u001b[0m\u001b[0;34m,\u001b[0m \u001b[0mkwargs\u001b[0m\u001b[0;34m)\u001b[0m\u001b[0;34m\u001b[0m\u001b[0;34m\u001b[0m\u001b[0m\n\u001b[0m\u001b[1;32m    217\u001b[0m \u001b[0;34m\u001b[0m\u001b[0m\n\u001b[1;32m    218\u001b[0m     \u001b[0;32mdef\u001b[0m \u001b[0mget_next_color\u001b[0m\u001b[0;34m(\u001b[0m\u001b[0mself\u001b[0m\u001b[0;34m)\u001b[0m\u001b[0;34m:\u001b[0m\u001b[0;34m\u001b[0m\u001b[0;34m\u001b[0m\u001b[0m\n",
            "\u001b[0;32m/usr/local/lib/python3.8/dist-packages/matplotlib/axes/_base.py\u001b[0m in \u001b[0;36m_plot_args\u001b[0;34m(self, tup, kwargs)\u001b[0m\n\u001b[1;32m    340\u001b[0m \u001b[0;34m\u001b[0m\u001b[0m\n\u001b[1;32m    341\u001b[0m         \u001b[0;32mif\u001b[0m \u001b[0mx\u001b[0m\u001b[0;34m.\u001b[0m\u001b[0mshape\u001b[0m\u001b[0;34m[\u001b[0m\u001b[0;36m0\u001b[0m\u001b[0;34m]\u001b[0m \u001b[0;34m!=\u001b[0m \u001b[0my\u001b[0m\u001b[0;34m.\u001b[0m\u001b[0mshape\u001b[0m\u001b[0;34m[\u001b[0m\u001b[0;36m0\u001b[0m\u001b[0;34m]\u001b[0m\u001b[0;34m:\u001b[0m\u001b[0;34m\u001b[0m\u001b[0;34m\u001b[0m\u001b[0m\n\u001b[0;32m--> 342\u001b[0;31m             raise ValueError(f\"x and y must have same first dimension, but \"\n\u001b[0m\u001b[1;32m    343\u001b[0m                              f\"have shapes {x.shape} and {y.shape}\")\n\u001b[1;32m    344\u001b[0m         \u001b[0;32mif\u001b[0m \u001b[0mx\u001b[0m\u001b[0;34m.\u001b[0m\u001b[0mndim\u001b[0m \u001b[0;34m>\u001b[0m \u001b[0;36m2\u001b[0m \u001b[0;32mor\u001b[0m \u001b[0my\u001b[0m\u001b[0;34m.\u001b[0m\u001b[0mndim\u001b[0m \u001b[0;34m>\u001b[0m \u001b[0;36m2\u001b[0m\u001b[0;34m:\u001b[0m\u001b[0;34m\u001b[0m\u001b[0;34m\u001b[0m\u001b[0m\n",
            "\u001b[0;31mValueError\u001b[0m: x and y must have same first dimension, but have shapes (19,) and (5,)"
          ]
        },
        {
          "output_type": "display_data",
          "data": {
            "text/plain": [
              "<Figure size 432x288 with 1 Axes>"
            ],
            "image/png": "[encoded data removed]"
          },
          "metadata": {
            "needs_background": "light"
          }
        }
      ],
      "source": [
        "import pandas as pd\n",
        "data = pd.read_csv('/content/drive/MyDrive/CS167/datasets/vehicles.csv')\n",
        "pd.set_option('display.max_columns', 100)\n",
        "gas_vehicles = data[data['fuelType']=='Regular']\n",
        "\n",
        "# a silly function that returns the average MPG for the first k cars in the df\n",
        "def getAverageMPG(data, k):\n",
        "    return data[\"comb08\"].iloc[0:k].mean()\n",
        "def getMedianMPG(data, k):\n",
        "    return data[\"comb08\"].iloc[0:k].median()\n",
        "number_of_points = 20\n",
        "\n",
        "#populate the series list\n",
        "series = []\n",
        "series1 = []\n",
        "for i in range(1, number_of_points):\n",
        "    val1 = getAverageMPG(gas_vehicles, i)\n",
        "    val2 = getMedianMPG(gas_vehicles, i)\n",
        "    series.append(val1)\n",
        "    series1.append(val2)\n",
        "\n",
        "#plot it!\n",
        "xvals = range(1, number_of_points)\n",
        "plt.suptitle('Average MPG', fontsize=18)\n",
        "plt.xlabel('cars used in average')\n",
        "plt.ylabel('average MPG')\n",
        "plt.plot(xvals, series, 'g-^', label='MPG')\n",
        "plt.plot(xvals, series2, 'r-o', label = 'Median MPG')\n",
        "plt.legend(loc='lower right', shadow=True)\n",
        "plt.axis([1, number_of_points, 10,35])\n",
        "plt.show()"
      ]
    },
    {
      "cell_type": "markdown",
      "metadata": {
        "id": "xMdGZNQmhlGs"
      },
      "source": [
        "# 💬 Group Exercise #1:\n",
        "\n",
        "Given the code from the previous slide:\n",
        "- change the number of points to 20\n",
        "- change the line to green triangles\n",
        "- also plot the median (red dots)"
      ]
    },
    {
      "cell_type": "code",
      "execution_count": null,
      "metadata": {
        "id": "USp34l8jhlGs",
        "outputId": "18db74b5-a799-4f96-fb59-ecf57d97cb7a"
      },
      "outputs": [
        {
          "data": {
            "image/png": "[encoded data removed]",
            "text/plain": [
              "<Figure size 432x288 with 1 Axes>"
            ]
          },
          "metadata": {
            "needs_background": "light"
          },
          "output_type": "display_data"
        }
      ],
      "source": [
        "# can you re-create this?"
      ]
    },
    {
      "cell_type": "markdown",
      "metadata": {
        "id": "0rmAeiEMhlGt"
      },
      "source": [
        "# Testing"
      ]
    },
    {
      "cell_type": "markdown",
      "metadata": {
        "id": "klE92gl8hlGt"
      },
      "source": [
        "# How do we know if our model is a 'good' model?\n",
        "\n",
        "We want to know how good our models are at making predictions... how can we test it? \n",
        "\n",
        "Examples:\n",
        "- what k-value should we use in knn algorithm?\n",
        "- what is the effect on accuracy if I normalize the data?\n",
        "- Should I use a weighted knn algorithm or a normal knn?"
      ]
    },
    {
      "cell_type": "markdown",
      "metadata": {
        "id": "cC_3JpeLhlGt"
      },
      "source": [
        "## Evaluation of Machine Learning Algorithms:\n",
        "\n",
        "We wnat to know how good our model is at making predictions. How can we test it? "
      ]
    },
    {
      "cell_type": "markdown",
      "metadata": {
        "id": "_Oi1vCLZhlGt"
      },
      "source": [
        "__Option 1:__ Deploy the model in a live setting and see how it does on new examples."
      ]
    },
    {
      "cell_type": "markdown",
      "metadata": {
        "id": "jC8t-p1hhlGt"
      },
      "source": [
        "__Option 2:__ Run each of our training examples through the model and see how many it gets correct"
      ]
    },
    {
      "cell_type": "markdown",
      "metadata": {
        "id": "VA41XuYEhlGt"
      },
      "source": [
        "__Option 3:__ Cross-Validation - set aside some of your training examples to be used for testing.\n",
        "- don't use testing examples when you train the model, only the rest that were left over. Why?"
      ]
    },
    {
      "cell_type": "markdown",
      "metadata": {
        "id": "vM12MeoshlGt"
      },
      "source": [
        "## Cross-Validation\n",
        "\n",
        "Don't train the model on the testing data!\n",
        "\n",
        "<div>\n",
        "<img src=\"https://github.com/merriekay/j23_cs167_notes/blob/main/images/day04_cross_validation.png?raw=1\" width=600/>\n",
        "</div>"
      ]
    },
    {
      "cell_type": "markdown",
      "metadata": {
        "id": "HrRbt6VYhlGt"
      },
      "source": [
        "## Cross-Validation Code:\n",
        "\n",
        "A good rule of thumb is that we like to train our model with 80% of the training examples, and test it on 20% of the training examples.\n",
        "\n",
        "Splitting datasets into training and testing sets with a Pandas DataFrame:"
      ]
    },
    {
      "cell_type": "code",
      "execution_count": 19,
      "metadata": {
        "id": "jE5XmGsRhlGu",
        "outputId": "aa077888-e331-42b7-f338-fb74cc8fa9b1",
        "colab": {
          "base_uri": "https://localhost:8080/"
        }
      },
      "outputs": [
        {
          "output_type": "execute_result",
          "data": {
            "text/plain": [
              "(130, 5)"
            ]
          },
          "metadata": {},
          "execution_count": 19
        }
      ],
      "source": [
        "import pandas as pd\n",
        "import numpy as np\n",
        "\n",
        "data = pd.read_csv('/content/drive/MyDrive/CS167/datasets/irisData.csv')\n",
        "\n",
        "#shuffle the data \"sampling\" the full set in random order\n",
        "shuffled_data = data.sample(frac=1, random_state=41)\n",
        "\n",
        "#use the first 20 rows in the shuffled set as testing data \n",
        "#train with the rest.\n",
        "test_data = shuffled_data.iloc[0:20]\n",
        "train_data = shuffled_data.iloc[20:]\n",
        "train_data.shape"
      ]
    },
    {
      "cell_type": "markdown",
      "metadata": {
        "id": "8EGs0Vt9hlGu"
      },
      "source": [
        "## Cross-Validation Metrics:\n",
        "\n",
        "When doing cross-validation, how do we tell how well our model performed?\n",
        "\n",
        "How can we measure it?"
      ]
    },
    {
      "cell_type": "markdown",
      "metadata": {
        "id": "ZNrzIx_vhlGu"
      },
      "source": [
        "- depends on the task and what we want to know. \n",
        "\n",
        "### Classification metrics are different than regression metrics"
      ]
    },
    {
      "cell_type": "markdown",
      "metadata": {
        "id": "kEDVdMbLhlGu"
      },
      "source": [
        "## Classification Metrics: `Accuracy`\n",
        "\n",
        "__Accuracy__: The fraction of test examples your model predicted correctly\n",
        "\n",
        "*Example*: 17 out of 20 = 0.85 accuracy"
      ]
    },
    {
      "cell_type": "markdown",
      "metadata": {
        "id": "9zoDgVfkhlGu"
      },
      "source": [
        "### Issues with accuracy:\n",
        "- Suppose that a blood test for cancer has 99% accuracy\n",
        "    - *can we safely assume this is a really good test?*\n",
        "        -  If the dataset is *unbalanced*, accuracy is not a reliable metric for the real performance of a classifier because it will yield misleading results.\n",
        "        - __Example__: Most people don’t have cancer.\n",
        "\n",
        "    - Beware of what your metrics don't tell you. "
      ]
    },
    {
      "cell_type": "markdown",
      "metadata": {
        "id": "UmCwE-vAhlGu"
      },
      "source": [
        "- What about __false negatives__ and __false positives__?\n",
        "    - __false negative__: a test result which incorrectly indicates that a particular condition or attribute is absent\n",
        "    - __false positives__: a test result which incorrectly indicates that a particular condition or attribute is present"
      ]
    },
    {
      "cell_type": "markdown",
      "metadata": {
        "id": "j3BZopMThlGu"
      },
      "source": [
        "## Classification Metrics: `Confusion Matrix`\n",
        "\n",
        "__confusion matrix__: A specific table layout that allows the visualiztion of the performance of an algorithm. Each row represents instances in an actual class while each column represents the instances in a predicted class. \n",
        "- It makes it easy to see where your model is confusing the predicted and actual results\n",
        "\n",
        "\n",
        "<div>\n",
        "<img src=\"https://github.com/merriekay/j23_cs167_notes/blob/main/images/day04_iris_confusionmatrix.png?raw=1\" width=600/>\n",
        "</div>"
      ]
    },
    {
      "cell_type": "markdown",
      "metadata": {
        "id": "CnW8wEGQhlGu"
      },
      "source": [
        "\n",
        "<div>\n",
        "<img src=\"https://github.com/merriekay/j23_cs167_notes/blob/main/images/day04_pretty_confusionmatrix.png?raw=1\" width=600/>\n",
        "</div>"
      ]
    },
    {
      "cell_type": "markdown",
      "metadata": {
        "id": "r_tQse1_hlGv"
      },
      "source": [
        "## Confusion Matrix Exercise:\n",
        "\n",
        "Given the following confusion matrix:\n",
        "- how many false positive?\n",
        "\n",
        "2\n",
        "- how many false negatives\n",
        "\n",
        "3\n",
        "- what is the accuracy?\n",
        "\n",
        "95% (95/100)\n",
        "\n",
        "\n",
        "<div>\n",
        "<img src=\"https://github.com/merriekay/j23_cs167_notes/blob/main/images/day04_confusionmatrix_ex.png?raw=1\" width=400/>\n",
        "</div>\n"
      ]
    },
    {
      "cell_type": "markdown",
      "metadata": {
        "id": "Qo4ATveahlGv"
      },
      "source": [
        "# Classification v Regression:\n",
        "\n",
        "What's the difference?\n",
        "\n",
        "The output variable in __regression__ is numerical (or continuous).\n",
        "\n",
        "The output variable in __classification__ is categorical (or discrete). "
      ]
    },
    {
      "cell_type": "markdown",
      "metadata": {
        "id": "EghwEcighlGv"
      },
      "source": [
        "### Is accuracy a good metric for regression? Why or why not?\n",
        "\n",
        "No, accuracy is binary. You either get it right or wrong. It doesn't measure how close you are, but in regression we care about how close we get to what we're predicting, which is why accuracy isn't a good metric for regression."
      ]
    },
    {
      "cell_type": "markdown",
      "metadata": {
        "id": "ytCI88bRhlGv"
      },
      "source": [
        "# Regression Metrics: `Mean Absolute Error (MAE)`\n",
        "\n",
        "__Mean Absolute Error (MAE)__: the average difference between the actual and predicted target values. \n",
        "\n",
        "<div>\n",
        "<img src=\"https://github.com/merriekay/j23_cs167_notes/blob/main/images/day04_mae.png?raw=1\"/>\n",
        "</div>\n"
      ]
    },
    {
      "cell_type": "markdown",
      "metadata": {
        "id": "2DFdh5hQhlGv"
      },
      "source": [
        "<div>\n",
        "<img src=\"https://github.com/merriekay/j23_cs167_notes/blob/main/images/day04_mae_calc.png?raw=1\"/>\n",
        "</div>\n"
      ]
    },
    {
      "cell_type": "markdown",
      "metadata": {
        "id": "zIm0f734hlGv"
      },
      "source": [
        "## Regression Metrics: `Mean Squared Error (MSE)`\n",
        "\n",
        "__Mean Squared Error__: The average squared difference between the actual and predicted targets.\n",
        "\n",
        "<div>\n",
        "<img src=\"https://github.com/merriekay/j23_cs167_notes/blob/main/images/day04_mse.png?raw=1\"/>\n",
        "</div>\n"
      ]
    },
    {
      "cell_type": "markdown",
      "metadata": {
        "id": "xLeXL36thlGv"
      },
      "source": [
        "<div>\n",
        "<img src=\"https://github.com/merriekay/j23_cs167_notes/blob/main/images/day04_mse_calc.png?raw=1\"/>\n",
        "</div>\n"
      ]
    },
    {
      "cell_type": "markdown",
      "metadata": {
        "id": "2XEhZcm-hlGv"
      },
      "source": [
        "## MAE v MSE:\n",
        "\n",
        "What effect does the squaring have on the error measurements?\n",
        "\n",
        "It is harsher and will generally be larger than MAE\n",
        "\n",
        "Can you think of any scenarios where it might be better to use `MAE` over `MSE` or vis versa?\n"
      ]
    },
    {
      "cell_type": "markdown",
      "metadata": {
        "id": "TZhGM3wHhlGv"
      },
      "source": [
        "## Regression Metrics: $R^2$\n",
        "\n",
        "Consider this naive prediction method: always predict the average target value\n",
        "\n",
        "Do you think this is a good predictor algorithm? "
      ]
    },
    {
      "cell_type": "markdown",
      "metadata": {
        "id": "Yi-8w_3UhlGw"
      },
      "source": [
        "No. \n",
        "\n",
        "So, we should be able to beat it-- if we can't, we're in trouble. However, we can use this as a point of comparison.\n",
        "- An $R^2$ values of 0 menas that you have done no better than the naive strategy of predicting the average"
      ]
    },
    {
      "cell_type": "markdown",
      "metadata": {
        "id": "D5wSxLwahlGw"
      },
      "source": [
        "## Interpreting $R^2$\n",
        "\n",
        "Things you should know:\n",
        "- Usually $R^2$ values fall between 0 and 1\n",
        "- 1 means you perfectly fit the data\n",
        "- 0 means you've done no better than average\n",
        "- Negative numbers mean that the naive model that predicts the average is actually a better predictor--yours is really bad. "
      ]
    },
    {
      "cell_type": "code",
      "execution_count": null,
      "metadata": {
        "id": "Tbt-IkVVhlGw"
      },
      "outputs": [],
      "source": []
    }
  ],
  "metadata": {
    "celltoolbar": "Slideshow",
    "kernelspec": {
      "display_name": "Python 3",
      "language": "python",
      "name": "python3"
    },
    "language_info": {
      "codemirror_mode": {
        "name": "ipython",
        "version": 3
      },
      "file_extension": ".py",
      "mimetype": "text/x-python",
      "name": "python",
      "nbconvert_exporter": "python",
      "pygments_lexer": "ipython3",
      "version": "3.8.3"
    },
    "colab": {
      "provenance": [],
      "include_colab_link": true
    }
  },
  "nbformat": 4,
  "nbformat_minor": 0
}